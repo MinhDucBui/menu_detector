{
 "cells": [
  {
   "cell_type": "code",
   "execution_count": 1,
   "id": "d59acf75",
   "metadata": {},
   "outputs": [],
   "source": [
    "from selenium import webdriver\n",
    "from selenium.webdriver.common.keys import Keys\n",
    "from selenium.webdriver.common.desired_capabilities import DesiredCapabilities\n",
    "import time\n"
   ]
  },
  {
   "cell_type": "code",
   "execution_count": 49,
   "id": "47ba192a",
   "metadata": {},
   "outputs": [],
   "source": [
    "def get_restaurant_urls(driver):\n",
    "    \n",
    "    restaurant_urls = []\n",
    "    restaurant_elements = driver.find_elements_by_class_name('restaurant.js-restaurant')\n",
    "    for single_restaurant_element in restaurant_elements:\n",
    "        try:\n",
    "            url_element = single_restaurant_element.find_element_by_class_name(\"restaurantname.notranslate\")\n",
    "            restaurant_urls.append(url_element.get_attribute(\"href\"))\n",
    "        except:\n",
    "            print(\"Error in retrieving one URL: Skip URL\")\n",
    "    return restaurant_urls\n",
    "    \n",
    "def start_webdriver(start_url):\n",
    "    driver = webdriver.Safari()\n",
    "    time.sleep(0.5)\n",
    "    driver.get(start_url)\n",
    "    time.sleep(5)\n",
    "    \n",
    "    return driver\n",
    "    \n",
    "\n",
    "def get_restaurant_name(driver):\n",
    "    try:\n",
    "        description = driver.find_element_by_name('description').get_attribute(\"content\").split(\".\")[0]\n",
    "        address = \", \".join(description.split(\", \")[1:])\n",
    "        name = description.split(\", \")[0]\n",
    "    except:\n",
    "        name = \"\"\n",
    "        address = \"\"\n",
    "    \n",
    "    return name, address\n",
    "\n",
    "def get_food_description(single_food_item):\n",
    "    try:\n",
    "        description = single_food_item.find_element_by_class_name(\"meal__description-additional-info\").text\n",
    "    except:\n",
    "        description = \"\"\n",
    "    return description\n",
    "\n",
    "def get_food_name(single_food_item):\n",
    "    try:\n",
    "        food_class_name = single_food_item.find_element_by_class_name(\"meal-name\")\n",
    "        food_name_span = food_class_name.find_element_by_class_name(\"notranslate\")\n",
    "        food_name = food_name_span.get_attribute(\"data-product-name\")\n",
    "    except:\n",
    "        food_name = \"\"\n",
    "    return food_name\n",
    "\n",
    "def get_food_price(single_food_item):\n",
    "    try:\n",
    "        price = single_food_item.find_element_by_class_name(\"meal__price.notranslate\").text\n",
    "    except:\n",
    "        price = \"\"\n",
    "    return price\n",
    "\n",
    "def get_food_category(single_catogory):\n",
    "    category_name = single_catogory.find_element_by_class_name(\"menucard__category-name\").text\n",
    "    return category_name\n",
    "\n",
    "def fill_out_dictionary(data_dictionary, restaurant_name, \n",
    "                      restaurant_address, category_name, \n",
    "                      all_food_names, all_food_description, \n",
    "                      all_food_price):\n",
    "    \n",
    "    data_dictionary[\"restaurant_name\"] = restaurant_name\n",
    "    data_dictionary[\"location\"] = restaurant_address\n",
    "    data_dictionary[\"dishes\"][\"food_name\"] = all_food_names\n",
    "    data_dictionary[\"dishes\"][\"price\"] = all_food_price\n",
    "    data_dictionary[\"dishes\"][\"category\"] = category_name\n",
    "    data_dictionary[\"dishes\"][\"description\"] = all_food_description\n",
    "    \n",
    "    return data_dictionary\n",
    "    \n",
    "    \n",
    "def get_data(driver):\n",
    "    \n",
    "    data_dictionary = {\"restaurant_name\": \"\",\n",
    "                       \"location\": \"\",\n",
    "                       \"dishes\": {\n",
    "                           \"food_name\": \"\",\n",
    "                           \"price\": \"\",\n",
    "                           \"category\": \"\",\n",
    "                           \"description\": \"\"\n",
    "                       }}\n",
    "    \n",
    "    all_food_names = []\n",
    "    all_food_price = []\n",
    "    all_food_description = []\n",
    "    restaurant_name, restaurant_address = get_restaurant_name(driver)\n",
    "    menu_split_categories = driver.find_elements_by_class_name(\"menucard__meals-group\")\n",
    "    #print(restaurant_name)\n",
    "    for single_catogory in menu_split_categories:\n",
    "        category_name = get_food_category(single_catogory)\n",
    "        food_items = single_catogory.find_elements_by_class_name('js-meal-item')\n",
    "\n",
    "        for single_food_item in food_items:\n",
    "            all_food_description.append(get_food_description(single_food_item))\n",
    "            all_food_names.append(get_food_name(single_food_item))\n",
    "            all_food_price.append(get_food_price(single_food_item))\n",
    "            \n",
    "    data_dictionary = fill_out_dictionary(data_dictionary, restaurant_name, \n",
    "                                          restaurant_address, category_name, \n",
    "                                          all_food_names, all_food_description, \n",
    "                                          all_food_price)\n",
    "    #print(\"Done with the restaurant.\\n\")\n",
    "    return data_dictionary\n",
    "    "
   ]
  },
  {
   "cell_type": "code",
   "execution_count": 50,
   "id": "4db4f1f2",
   "metadata": {},
   "outputs": [],
   "source": [
    "import json\n",
    "from tqdm import tqdm\n",
    "\n",
    "start_url = \"https://www.lieferando.de/lieferservice/essen/karlsruhe-mannheim-68161\"\n",
    "\n",
    "def scrape_lieferando_pipeline(start_url, batch=10):\n",
    "    \n",
    "    json_name = \"scraped_data/data_batch_\"\n",
    "    \n",
    "    driver = start_webdriver(start_url)\n",
    "    restaurant_urls = get_restaurant_urls(driver)\n",
    "\n",
    "    restaurant_index = 1\n",
    "    all_data = []\n",
    "    for restaurant_link in tqdm(restaurant_urls):\n",
    "        driver.get(restaurant_link)\n",
    "        time.sleep(1)\n",
    "        all_data.append(get_data(driver))\n",
    "        time.sleep(3)\n",
    "        if restaurant_index%batch == 0:\n",
    "            with open(json_name + str(restaurant_index) + \".json\", 'w') as f:\n",
    "                print(\"Saving Batch\")\n",
    "                json.dump(all_data, f)\n",
    "        restaurant_index += 1\n",
    "        \n",
    "    with open(json_name + \"all\" + \".json\", 'w') as f:\n",
    "        print(\"Saving Batch\")\n",
    "        json.dump(all_data, f)\n",
    "    return all_data\n",
    "            "
   ]
  },
  {
   "cell_type": "code",
   "execution_count": 51,
   "id": "76f022e9",
   "metadata": {},
   "outputs": [
    {
     "name": "stdout",
     "output_type": "stream",
     "text": [
      "Error in retrieving one URL: Skip URL\n",
      "Saving Batch\n"
     ]
    },
    {
     "name": "stderr",
     "output_type": "stream",
     "text": [
      "Exception ignored in: <function tqdm.__del__ at 0x7f86c320cdc0>\n",
      "Traceback (most recent call last):\n",
      "  File \"/Users/I534344/opt/anaconda3/envs/ocr_model/lib/python3.8/site-packages/tqdm/std.py\", line 1152, in __del__\n",
      "    self.close()\n",
      "  File \"/Users/I534344/opt/anaconda3/envs/ocr_model/lib/python3.8/site-packages/tqdm/notebook.py\", line 283, in close\n",
      "    self.disp(bar_style='danger', check_delay=False)\n",
      "AttributeError: 'tqdm_notebook' object has no attribute 'disp'\n",
      "Exception ignored in: <function tqdm.__del__ at 0x7f86c320cdc0>\n",
      "Traceback (most recent call last):\n",
      "  File \"/Users/I534344/opt/anaconda3/envs/ocr_model/lib/python3.8/site-packages/tqdm/std.py\", line 1152, in __del__\n",
      "    self.close()\n",
      "  File \"/Users/I534344/opt/anaconda3/envs/ocr_model/lib/python3.8/site-packages/tqdm/notebook.py\", line 283, in close\n",
      "    self.disp(bar_style='danger', check_delay=False)\n",
      "AttributeError: 'tqdm_notebook' object has no attribute 'disp'\n",
      "Exception ignored in: <function tqdm.__del__ at 0x7f86c320cdc0>\n",
      "Traceback (most recent call last):\n",
      "  File \"/Users/I534344/opt/anaconda3/envs/ocr_model/lib/python3.8/site-packages/tqdm/std.py\", line 1152, in __del__\n",
      "    self.close()\n",
      "  File \"/Users/I534344/opt/anaconda3/envs/ocr_model/lib/python3.8/site-packages/tqdm/notebook.py\", line 283, in close\n",
      "    self.disp(bar_style='danger', check_delay=False)\n",
      "AttributeError: 'tqdm_notebook' object has no attribute 'disp'\n"
     ]
    },
    {
     "name": "stdout",
     "output_type": "stream",
     "text": [
      "Saving Batch\n",
      "Saving Batch\n",
      "Saving Batch\n"
     ]
    }
   ],
   "source": [
    "start_url = \"https://www.lieferando.de/lieferservice/essen/karlsruhe-mannheim-68161\"\n",
    "scraped_data = scrape_lieferando_pipeline(start_url, 50)"
   ]
  },
  {
   "cell_type": "code",
   "execution_count": 75,
   "id": "8aabee9a",
   "metadata": {},
   "outputs": [],
   "source": [
    "list_of_all_food_names = []\n",
    "for restaurant in scraped_data:\n",
    "    list_of_all_food_names += restaurant[\"dishes\"][\"food_name\"]"
   ]
  },
  {
   "cell_type": "code",
   "execution_count": 76,
   "id": "4d0ca971",
   "metadata": {},
   "outputs": [],
   "source": [
    "list_of_all_food_names = list(set(list_of_all_food_names))\n"
   ]
  },
  {
   "cell_type": "code",
   "execution_count": 112,
   "id": "20671756",
   "metadata": {},
   "outputs": [
    {
     "name": "stdout",
     "output_type": "stream",
     "text": [
      "pizza\n"
     ]
    }
   ],
   "source": [
    "for name in lookup_table:\n",
    "    if \"pizza\" == name.lower():\n",
    "        print(name)"
   ]
  }
 ],
 "metadata": {
  "kernelspec": {
   "display_name": "Python 3",
   "language": "python",
   "name": "python3"
  },
  "language_info": {
   "codemirror_mode": {
    "name": "ipython",
    "version": 3
   },
   "file_extension": ".py",
   "mimetype": "text/x-python",
   "name": "python",
   "nbconvert_exporter": "python",
   "pygments_lexer": "ipython3",
   "version": "3.8.10"
  }
 },
 "nbformat": 4,
 "nbformat_minor": 5
}
