{
 "cells": [
  {
   "cell_type": "code",
   "execution_count": null,
   "id": "b54e1346",
   "metadata": {},
   "outputs": [],
   "source": [
    "import json\n",
    "from gensim.parsing.preprocessing import preprocess_string\n",
    "from gensim.parsing.preprocessing import strip_tags\n",
    "from gensim.parsing.preprocessing import strip_short\n",
    "from gensim.parsing.preprocessing import strip_multiple_whitespaces\n",
    "from gensim.parsing.preprocessing import stem_text\n",
    "from gensim.parsing.preprocessing import strip_numeric\n",
    "\n",
    "\n",
    "CUSTOM_FILTERS = [lambda x: x.lower(), strip_tags, lambda x: strip_short(x, minsize=2), \n",
    "                  strip_multiple_whitespaces, strip_numeric, stem_text]"
   ]
  },
  {
   "cell_type": "code",
   "execution_count": null,
   "id": "88c65604",
   "metadata": {},
   "outputs": [],
   "source": [
    "def wordListToFreqDict(wordlist):\n",
    "    wordfreq = [wordlist.count(p) for p in wordlist]\n",
    "    return dict(list(zip(wordlist,wordfreq)))\n",
    "\n",
    "def sortFreqDict(freqdict):\n",
    "    aux = [(freqdict[key], key) for key in freqdict]\n",
    "    aux.sort()\n",
    "    aux.reverse()\n",
    "    return aux"
   ]
  },
  {
   "cell_type": "code",
   "execution_count": null,
   "id": "a5da9176",
   "metadata": {},
   "outputs": [],
   "source": [
    "with open(\"scraped_data/data_batch_all.json\") as jsonFile:\n",
    "        scraped_data = json.load(jsonFile)\n",
    "lookup_table = []\n",
    "for restaurant in scraped_data:\n",
    "    preprocessed_list = [\" \".join(preprocess_string(name, filters=CUSTOM_FILTERS)) for name in restaurant[\"dishes\"][\"food_name\"]]\n",
    "    lookup_table += preprocessed_list\n",
    "\n",
    "word_split = []\n",
    "for sentence in lookup_table:\n",
    "    word_split += sentence.split(\" \")"
   ]
  },
  {
   "cell_type": "code",
   "execution_count": null,
   "id": "27722fe2",
   "metadata": {},
   "outputs": [],
   "source": [
    "word_frequency = wordListToFreqDict(word_split)\n",
    "sortFreqDict(word_frequency)"
   ]
  },
  {
   "cell_type": "code",
   "execution_count": null,
   "id": "0de7f723",
   "metadata": {},
   "outputs": [],
   "source": [
    "with open(\"word_frequency\" + \".json\", 'w') as f:\n",
    "\n",
    "    json.dump(word_frequency, f)"
   ]
  }
 ],
 "metadata": {
  "kernelspec": {
   "display_name": "Python 3",
   "language": "python",
   "name": "python3"
  },
  "language_info": {
   "codemirror_mode": {
    "name": "ipython",
    "version": 3
   },
   "file_extension": ".py",
   "mimetype": "text/x-python",
   "name": "python",
   "nbconvert_exporter": "python",
   "pygments_lexer": "ipython3",
   "version": "3.8.10"
  }
 },
 "nbformat": 4,
 "nbformat_minor": 5
}
